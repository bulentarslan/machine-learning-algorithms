{
 "cells": [
  {
   "cell_type": "markdown",
   "metadata": {},
   "source": [
    "# Polynomial Linear Regression\n",
    "\n",
    "## y = b0 + b1x1 + b2x2^2 + ..."
   ]
  },
  {
   "cell_type": "markdown",
   "metadata": {},
   "source": [
    "### Why Linear:\n",
    "\n",
    "#### Linear refers to coefficients."
   ]
  },
  {
   "cell_type": "code",
   "execution_count": 49,
   "metadata": {},
   "outputs": [],
   "source": [
    "import pandas as pd\n",
    "import numpy as np\n",
    "import matplotlib.pyplot as plt\n",
    "%matplotlib inline"
   ]
  },
  {
   "cell_type": "code",
   "execution_count": 50,
   "metadata": {},
   "outputs": [],
   "source": [
    "data = pd.read_csv('Position_Salaries.csv')\n",
    "\n",
    "X = data.iloc[: , 1:2].values\n",
    "y = data.iloc[:, -1].values"
   ]
  },
  {
   "cell_type": "code",
   "execution_count": null,
   "metadata": {},
   "outputs": [],
   "source": [
    "from sklearn.cross_validation import train_test_split\n",
    "X_train, X_test, y_train, y_test = train_test_split(X,y, test_size=0, random_state=42)\n",
    "#We won't use train-test split in this example as our sample size is relatively small (n=10)"
   ]
  },
  {
   "cell_type": "code",
   "execution_count": null,
   "metadata": {},
   "outputs": [],
   "source": [
    "# Fitting Linear Regression to the dataset\n",
    "\n",
    "from sklearn.linear_model import LinearRegression\n",
    "lin_reg = LinearRegression()\n",
    "lin_reg.fit(X_train, y_train)"
   ]
  },
  {
   "cell_type": "code",
   "execution_count": null,
   "metadata": {},
   "outputs": [],
   "source": [
    "# Fitting Polynomial Regression to the dataset\n",
    "\n",
    "from sklearn.preprocessing import PolynomialFeatures\n",
    "pol_reg = PolynomialFeatures(degree = 5)\n",
    "X_poly = pol_reg.fit_transform(X_train)\n",
    "\n",
    "#Now we need to create a new Linear regressor object to fit our polynomial \n",
    "lin_reg2 = LinearRegression()\n",
    "lin_reg2.fit(X_poly, y_train)\n"
   ]
  },
  {
   "cell_type": "code",
   "execution_count": null,
   "metadata": {},
   "outputs": [],
   "source": [
    "'''Parameters\n",
    "----------\n",
    "degree : integer\n",
    "    The degree of the polynomial features. Default = 2.\n",
    "\n",
    "interaction_only : boolean, default = False\n",
    "    If true, only interaction features are produced: features that are\n",
    "    products of at most ``degree`` *distinct* input features (so not\n",
    "    ``x[1] ** 2``, ``x[0] * x[2] ** 3``, etc.).\n",
    "\n",
    "include_bias : boolean\n",
    "    If True (default), then include a bias column, the feature in which\n",
    "    all polynomial powers are zero (i.e. a column of ones - acts as an\n",
    "    intercept term in a linear model).\n",
    "\n",
    "Examples\n",
    "--------\n",
    ">>> X = np.arange(6).reshape(3, 2)\n",
    ">>> X\n",
    "array([[0, 1],\n",
    "       [2, 3],\n",
    "       [4, 5]])\n",
    ">>> poly = PolynomialFeatures(2)\n",
    ">>> poly.fit_transform(X)\n",
    "array([[  1.,   0.,   1.,   0.,   0.,   1.],\n",
    "       [  1.,   2.,   3.,   4.,   6.,   9.],\n",
    "       [  1.,   4.,   5.,  16.,  20.,  25.]])\n",
    ">>> poly = PolynomialFeatures(interaction_only=True)\n",
    ">>> poly.fit_transform(X)\n",
    "array([[  1.,   0.,   1.,   0.],\n",
    "       [  1.,   2.,   3.,   6.],\n",
    "       [  1.,   4.,   5.,  20.]])'''"
   ]
  },
  {
   "cell_type": "code",
   "execution_count": null,
   "metadata": {},
   "outputs": [],
   "source": [
    "#Visualizing the Linear Regression Results\n",
    "plt.figure(figsize = [15,8])\n",
    "plt.scatter(X , y , color ='red')\n",
    "plt.plot(X_train, lin_reg.predict(X_train), color='blue')\n",
    "plt.title('Linear Regression Model')\n",
    "plt.xlabel('Job Title')\n",
    "plt.ylabel('Salary')\n",
    "plt.grid('on')"
   ]
  },
  {
   "cell_type": "code",
   "execution_count": null,
   "metadata": {},
   "outputs": [],
   "source": [
    "#Visualizing the Polynomial Regression Results\n",
    "\n",
    "#Creating a smoother line\n",
    "X_grid = np.arange(min(X),max(X),.1)\n",
    "X_grid = X_grid.reshape((len(X_grid),1))\n",
    "\n",
    "\n",
    "plt.figure(figsize = [15,8])\n",
    "plt.scatter(X , y , color ='red')\n",
    "plt.plot(sorted(X_grid), sorted(lin_reg2.predict(pol_reg.fit_transform(X_grid)),reverse=False), color='blue')\n",
    "plt.title('Polynomial Regression Model')\n",
    "plt.xlabel('Job Title')\n",
    "plt.ylabel('Salary')\n",
    "plt.grid('on')"
   ]
  },
  {
   "cell_type": "code",
   "execution_count": null,
   "metadata": {},
   "outputs": [],
   "source": [
    "# Predicting a new result with Linear Regression\n",
    "lin_reg.predict(6.5)"
   ]
  },
  {
   "cell_type": "code",
   "execution_count": null,
   "metadata": {},
   "outputs": [],
   "source": [
    "# Predicting a new result with Polynomia Regression\n",
    "lin_reg2.predict(pol_reg.fit_transform(6.5))"
   ]
  },
  {
   "cell_type": "code",
   "execution_count": null,
   "metadata": {},
   "outputs": [],
   "source": [
    "\n"
   ]
  },
  {
   "cell_type": "code",
   "execution_count": null,
   "metadata": {},
   "outputs": [],
   "source": []
  },
  {
   "cell_type": "code",
   "execution_count": null,
   "metadata": {},
   "outputs": [],
   "source": []
  },
  {
   "cell_type": "code",
   "execution_count": null,
   "metadata": {},
   "outputs": [],
   "source": []
  },
  {
   "cell_type": "code",
   "execution_count": null,
   "metadata": {},
   "outputs": [],
   "source": []
  },
  {
   "cell_type": "code",
   "execution_count": null,
   "metadata": {},
   "outputs": [],
   "source": []
  },
  {
   "cell_type": "code",
   "execution_count": null,
   "metadata": {},
   "outputs": [],
   "source": []
  },
  {
   "cell_type": "code",
   "execution_count": null,
   "metadata": {},
   "outputs": [],
   "source": []
  },
  {
   "cell_type": "code",
   "execution_count": null,
   "metadata": {},
   "outputs": [],
   "source": []
  }
 ],
 "metadata": {
  "kernelspec": {
   "display_name": "Python 3",
   "language": "python",
   "name": "python3"
  },
  "language_info": {
   "codemirror_mode": {
    "name": "ipython",
    "version": 3
   },
   "file_extension": ".py",
   "mimetype": "text/x-python",
   "name": "python",
   "nbconvert_exporter": "python",
   "pygments_lexer": "ipython3",
   "version": "3.6.4"
  }
 },
 "nbformat": 4,
 "nbformat_minor": 2
}
