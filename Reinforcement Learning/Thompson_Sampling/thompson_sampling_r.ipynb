{
 "cells": [
  {
   "cell_type": "code",
   "execution_count": 4,
   "metadata": {},
   "outputs": [],
   "source": [
    "# Upper Confidence Bound\n",
    "\n",
    "# Importing the dataset\n",
    "dataset = read.csv('Ads_CTR_Optimisation.csv')\n",
    "\n",
    "\n"
   ]
  },
  {
   "cell_type": "code",
   "execution_count": 6,
   "metadata": {},
   "outputs": [],
   "source": [
    "# Implementing UCB\n",
    "N = nrow(dataset)\n",
    "d = ncol(dataset)\n",
    "ads_selected = integer(0)\n",
    "numbers_of_rewards_1 = integer(d)\n",
    "numbers_of_rewards_0 = integer(d)\n",
    "total_reward = 0\n",
    "for (n in 1:N) {\n",
    "  ad = 0\n",
    "  max_random = 0\n",
    "  for (i in 1:d) {\n",
    "   random_beta = rbeta(n=1,\n",
    "                      shape1= numbers_of_rewards_1[i] + 1,\n",
    "                      shape2= numbers_of_rewards_0[i] + 1)\n",
    "    if (random_beta > max_random) {\n",
    "      max_random = random_beta\n",
    "      ad = i\n",
    "    }\n",
    "  }\n",
    "  ads_selected = append(ads_selected, ad)\n",
    "  reward = dataset[n, ad]\n",
    "    if (reward == 1) {\n",
    "        numbers_of_rewards_1[ad] = numbers_of_rewards_1[ad] + 1\n",
    "    } else {\n",
    "        numbers_of_rewards_0[ad] = numbers_of_rewards_0[ad] + 1\n",
    "    }\n",
    "  total_reward = total_reward + reward\n",
    "}"
   ]
  },
  {
   "cell_type": "code",
   "execution_count": 7,
   "metadata": {},
   "outputs": [
    {
     "data": {
      "image/png": "[encoded data removed]",
      "text/plain": [
       "Plot with title \"Histogram of ads selections\""
      ]
     },
     "metadata": {},
     "output_type": "display_data"
    }
   ],
   "source": [
    "# Visualising the results\n",
    "hist(ads_selected,\n",
    "     col = 'blue',\n",
    "     main = 'Histogram of ads selections',\n",
    "     xlab = 'Ads',\n",
    "     ylab = 'Number of times each ad was selected')"
   ]
  },
  {
   "cell_type": "code",
   "execution_count": 8,
   "metadata": {},
   "outputs": [
    {
     "data": {
      "text/html": [
       "2585"
      ],
      "text/latex": [
       "2585"
      ],
      "text/markdown": [
       "2585"
      ],
      "text/plain": [
       "[1] 2585"
      ]
     },
     "metadata": {},
     "output_type": "display_data"
    }
   ],
   "source": [
    "total_reward"
   ]
  },
  {
   "cell_type": "code",
   "execution_count": null,
   "metadata": {},
   "outputs": [],
   "source": []
  }
 ],
 "metadata": {
  "kernelspec": {
   "display_name": "R",
   "language": "R",
   "name": "ir"
  },
  "language_info": {
   "codemirror_mode": "r",
   "file_extension": ".r",
   "mimetype": "text/x-r-source",
   "name": "R",
   "pygments_lexer": "r",
   "version": "3.4.3"
  }
 },
 "nbformat": 4,
 "nbformat_minor": 2
}
