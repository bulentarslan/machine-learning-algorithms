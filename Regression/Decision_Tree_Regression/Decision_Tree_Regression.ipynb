{
 "cells": [
  {
   "cell_type": "markdown",
   "metadata": {},
   "source": [
    "# Decision Tree Intuition"
   ]
  },
  {
   "cell_type": "code",
   "execution_count": 1,
   "metadata": {},
   "outputs": [],
   "source": [
    "import pandas as pd\n",
    "import numpy as np\n",
    "import matplotlib.pyplot as plt"
   ]
  },
  {
   "cell_type": "code",
   "execution_count": 3,
   "metadata": {},
   "outputs": [],
   "source": [
    "data = pd.read_csv('Position_Salaries.csv')\n",
    "X = data.iloc[: , 1:2].values\n",
    "y = data.iloc[: , -1].values"
   ]
  },
  {
   "cell_type": "code",
   "execution_count": 4,
   "metadata": {},
   "outputs": [
    {
     "data": {
      "text/plain": [
       "DecisionTreeRegressor(criterion='mse', max_depth=None, max_features=None,\n",
       "           max_leaf_nodes=None, min_impurity_decrease=0.0,\n",
       "           min_impurity_split=None, min_samples_leaf=1,\n",
       "           min_samples_split=2, min_weight_fraction_leaf=0.0,\n",
       "           presort=False, random_state=0, splitter='best')"
      ]
     },
     "execution_count": 4,
     "metadata": {},
     "output_type": "execute_result"
    }
   ],
   "source": [
    "# Fitting the descision tree regression to dataset\n",
    "from sklearn.tree import DecisionTreeRegressor\n",
    "regressor = DecisionTreeRegressor(random_state=0)\n",
    "regressor.fit(X, y)"
   ]
  },
  {
   "cell_type": "code",
   "execution_count": 7,
   "metadata": {},
   "outputs": [],
   "source": [
    "import inspect"
   ]
  },
  {
   "cell_type": "code",
   "execution_count": 15,
   "metadata": {},
   "outputs": [
    {
     "data": {
      "text/plain": [
       "(['class DecisionTreeRegressor(BaseDecisionTree, RegressorMixin):\\n',\n",
       "  '    \"\"\"A decision tree regressor.\\n',\n",
       "  '\\n',\n",
       "  '    Read more in the :ref:`User Guide <tree>`.\\n',\n",
       "  '\\n',\n",
       "  '    Parameters\\n',\n",
       "  '    ----------\\n',\n",
       "  '    criterion : string, optional (default=\"mse\")\\n',\n",
       "  '        The function to measure the quality of a split. Supported criteria\\n',\n",
       "  '        are \"mse\" for the mean squared error, which is equal to variance\\n',\n",
       "  '        reduction as feature selection criterion and minimizes the L2 loss\\n',\n",
       "  '        using the mean of each terminal node, \"friedman_mse\", which uses mean\\n',\n",
       "  \"        squared error with Friedman's improvement score for potential splits,\\n\",\n",
       "  '        and \"mae\" for the mean absolute error, which minimizes the L1 loss\\n',\n",
       "  '        using the median of each terminal node.\\n',\n",
       "  '\\n',\n",
       "  '        .. versionadded:: 0.18\\n',\n",
       "  '           Mean Absolute Error (MAE) criterion.\\n',\n",
       "  '\\n',\n",
       "  '    splitter : string, optional (default=\"best\")\\n',\n",
       "  '        The strategy used to choose the split at each node. Supported\\n',\n",
       "  '        strategies are \"best\" to choose the best split and \"random\" to choose\\n',\n",
       "  '        the best random split.\\n',\n",
       "  '\\n',\n",
       "  '    max_depth : int or None, optional (default=None)\\n',\n",
       "  '        The maximum depth of the tree. If None, then nodes are expanded until\\n',\n",
       "  '        all leaves are pure or until all leaves contain less than\\n',\n",
       "  '        min_samples_split samples.\\n',\n",
       "  '\\n',\n",
       "  '    min_samples_split : int, float, optional (default=2)\\n',\n",
       "  '        The minimum number of samples required to split an internal node:\\n',\n",
       "  '\\n',\n",
       "  '        - If int, then consider `min_samples_split` as the minimum number.\\n',\n",
       "  '        - If float, then `min_samples_split` is a percentage and\\n',\n",
       "  '          `ceil(min_samples_split * n_samples)` are the minimum\\n',\n",
       "  '          number of samples for each split.\\n',\n",
       "  '\\n',\n",
       "  '        .. versionchanged:: 0.18\\n',\n",
       "  '           Added float values for percentages.\\n',\n",
       "  '\\n',\n",
       "  '    min_samples_leaf : int, float, optional (default=1)\\n',\n",
       "  '        The minimum number of samples required to be at a leaf node:\\n',\n",
       "  '\\n',\n",
       "  '        - If int, then consider `min_samples_leaf` as the minimum number.\\n',\n",
       "  '        - If float, then `min_samples_leaf` is a percentage and\\n',\n",
       "  '          `ceil(min_samples_leaf * n_samples)` are the minimum\\n',\n",
       "  '          number of samples for each node.\\n',\n",
       "  '\\n',\n",
       "  '        .. versionchanged:: 0.18\\n',\n",
       "  '           Added float values for percentages.\\n',\n",
       "  '\\n',\n",
       "  '    min_weight_fraction_leaf : float, optional (default=0.)\\n',\n",
       "  '        The minimum weighted fraction of the sum total of weights (of all\\n',\n",
       "  '        the input samples) required to be at a leaf node. Samples have\\n',\n",
       "  '        equal weight when sample_weight is not provided.\\n',\n",
       "  '\\n',\n",
       "  '    max_features : int, float, string or None, optional (default=None)\\n',\n",
       "  '        The number of features to consider when looking for the best split:\\n',\n",
       "  '\\n',\n",
       "  '        - If int, then consider `max_features` features at each split.\\n',\n",
       "  '        - If float, then `max_features` is a percentage and\\n',\n",
       "  '          `int(max_features * n_features)` features are considered at each\\n',\n",
       "  '          split.\\n',\n",
       "  '        - If \"auto\", then `max_features=n_features`.\\n',\n",
       "  '        - If \"sqrt\", then `max_features=sqrt(n_features)`.\\n',\n",
       "  '        - If \"log2\", then `max_features=log2(n_features)`.\\n',\n",
       "  '        - If None, then `max_features=n_features`.\\n',\n",
       "  '\\n',\n",
       "  '        Note: the search for a split does not stop until at least one\\n',\n",
       "  '        valid partition of the node samples is found, even if it requires to\\n',\n",
       "  '        effectively inspect more than ``max_features`` features.\\n',\n",
       "  '\\n',\n",
       "  '    random_state : int, RandomState instance or None, optional (default=None)\\n',\n",
       "  '        If int, random_state is the seed used by the random number generator;\\n',\n",
       "  '        If RandomState instance, random_state is the random number generator;\\n',\n",
       "  '        If None, the random number generator is the RandomState instance used\\n',\n",
       "  '        by `np.random`.\\n',\n",
       "  '\\n',\n",
       "  '    max_leaf_nodes : int or None, optional (default=None)\\n',\n",
       "  '        Grow a tree with ``max_leaf_nodes`` in best-first fashion.\\n',\n",
       "  '        Best nodes are defined as relative reduction in impurity.\\n',\n",
       "  '        If None then unlimited number of leaf nodes.\\n',\n",
       "  '\\n',\n",
       "  '    min_impurity_decrease : float, optional (default=0.)\\n',\n",
       "  '        A node will be split if this split induces a decrease of the impurity\\n',\n",
       "  '        greater than or equal to this value.\\n',\n",
       "  '\\n',\n",
       "  '        The weighted impurity decrease equation is the following::\\n',\n",
       "  '\\n',\n",
       "  '            N_t / N * (impurity - N_t_R / N_t * right_impurity\\n',\n",
       "  '                                - N_t_L / N_t * left_impurity)\\n',\n",
       "  '\\n',\n",
       "  '        where ``N`` is the total number of samples, ``N_t`` is the number of\\n',\n",
       "  '        samples at the current node, ``N_t_L`` is the number of samples in the\\n',\n",
       "  '        left child, and ``N_t_R`` is the number of samples in the right child.\\n',\n",
       "  '\\n',\n",
       "  '        ``N``, ``N_t``, ``N_t_R`` and ``N_t_L`` all refer to the weighted sum,\\n',\n",
       "  '        if ``sample_weight`` is passed.\\n',\n",
       "  '\\n',\n",
       "  '        .. versionadded:: 0.19\\n',\n",
       "  '\\n',\n",
       "  '    min_impurity_split : float,\\n',\n",
       "  '        Threshold for early stopping in tree growth. A node will split\\n',\n",
       "  '        if its impurity is above the threshold, otherwise it is a leaf.\\n',\n",
       "  '\\n',\n",
       "  '        .. deprecated:: 0.19\\n',\n",
       "  '           ``min_impurity_split`` has been deprecated in favor of\\n',\n",
       "  '           ``min_impurity_decrease`` in 0.19 and will be removed in 0.21.\\n',\n",
       "  '           Use ``min_impurity_decrease`` instead.\\n',\n",
       "  '\\n',\n",
       "  '    presort : bool, optional (default=False)\\n',\n",
       "  '        Whether to presort the data to speed up the finding of best splits in\\n',\n",
       "  '        fitting. For the default settings of a decision tree on large\\n',\n",
       "  '        datasets, setting this to true may slow down the training process.\\n',\n",
       "  '        When using either a smaller dataset or a restricted depth, this may\\n',\n",
       "  '        speed up the training.\\n',\n",
       "  '\\n',\n",
       "  '    Attributes\\n',\n",
       "  '    ----------\\n',\n",
       "  '    feature_importances_ : array of shape = [n_features]\\n',\n",
       "  '        The feature importances.\\n',\n",
       "  '        The higher, the more important the feature.\\n',\n",
       "  '        The importance of a feature is computed as the\\n',\n",
       "  '        (normalized) total reduction of the criterion brought\\n',\n",
       "  '        by that feature. It is also known as the Gini importance [4]_.\\n',\n",
       "  '\\n',\n",
       "  '    max_features_ : int,\\n',\n",
       "  '        The inferred value of max_features.\\n',\n",
       "  '\\n',\n",
       "  '    n_features_ : int\\n',\n",
       "  '        The number of features when ``fit`` is performed.\\n',\n",
       "  '\\n',\n",
       "  '    n_outputs_ : int\\n',\n",
       "  '        The number of outputs when ``fit`` is performed.\\n',\n",
       "  '\\n',\n",
       "  '    tree_ : Tree object\\n',\n",
       "  '        The underlying Tree object.\\n',\n",
       "  '\\n',\n",
       "  '    Notes\\n',\n",
       "  '    -----\\n',\n",
       "  '    The default values for the parameters controlling the size of the trees\\n',\n",
       "  '    (e.g. ``max_depth``, ``min_samples_leaf``, etc.) lead to fully grown and\\n',\n",
       "  '    unpruned trees which can potentially be very large on some data sets. To\\n',\n",
       "  '    reduce memory consumption, the complexity and size of the trees should be\\n',\n",
       "  '    controlled by setting those parameter values.\\n',\n",
       "  '\\n',\n",
       "  '    The features are always randomly permuted at each split. Therefore,\\n',\n",
       "  '    the best found split may vary, even with the same training data and\\n',\n",
       "  '    ``max_features=n_features``, if the improvement of the criterion is\\n',\n",
       "  '    identical for several splits enumerated during the search of the best\\n',\n",
       "  '    split. To obtain a deterministic behaviour during fitting,\\n',\n",
       "  '    ``random_state`` has to be fixed.\\n',\n",
       "  '\\n',\n",
       "  '    See also\\n',\n",
       "  '    --------\\n',\n",
       "  '    DecisionTreeClassifier\\n',\n",
       "  '\\n',\n",
       "  '    References\\n',\n",
       "  '    ----------\\n',\n",
       "  '\\n',\n",
       "  '    .. [1] https://en.wikipedia.org/wiki/Decision_tree_learning\\n',\n",
       "  '\\n',\n",
       "  '    .. [2] L. Breiman, J. Friedman, R. Olshen, and C. Stone, \"Classification\\n',\n",
       "  '           and Regression Trees\", Wadsworth, Belmont, CA, 1984.\\n',\n",
       "  '\\n',\n",
       "  '    .. [3] T. Hastie, R. Tibshirani and J. Friedman. \"Elements of Statistical\\n',\n",
       "  '           Learning\", Springer, 2009.\\n',\n",
       "  '\\n',\n",
       "  '    .. [4] L. Breiman, and A. Cutler, \"Random Forests\",\\n',\n",
       "  '           http://www.stat.berkeley.edu/~breiman/RandomForests/cc_home.htm\\n',\n",
       "  '\\n',\n",
       "  '    Examples\\n',\n",
       "  '    --------\\n',\n",
       "  '    >>> from sklearn.datasets import load_boston\\n',\n",
       "  '    >>> from sklearn.model_selection import cross_val_score\\n',\n",
       "  '    >>> from sklearn.tree import DecisionTreeRegressor\\n',\n",
       "  '    >>> boston = load_boston()\\n',\n",
       "  '    >>> regressor = DecisionTreeRegressor(random_state=0)\\n',\n",
       "  '    >>> cross_val_score(regressor, boston.data, boston.target, cv=10)\\n',\n",
       "  '    ...                    # doctest: +SKIP\\n',\n",
       "  '    ...\\n',\n",
       "  '    array([ 0.61..., 0.57..., -0.34..., 0.41..., 0.75...,\\n',\n",
       "  '            0.07..., 0.29..., 0.33..., -1.42..., -1.77...])\\n',\n",
       "  '    \"\"\"\\n',\n",
       "  '    def __init__(self,\\n',\n",
       "  '                 criterion=\"mse\",\\n',\n",
       "  '                 splitter=\"best\",\\n',\n",
       "  '                 max_depth=None,\\n',\n",
       "  '                 min_samples_split=2,\\n',\n",
       "  '                 min_samples_leaf=1,\\n',\n",
       "  '                 min_weight_fraction_leaf=0.,\\n',\n",
       "  '                 max_features=None,\\n',\n",
       "  '                 random_state=None,\\n',\n",
       "  '                 max_leaf_nodes=None,\\n',\n",
       "  '                 min_impurity_decrease=0.,\\n',\n",
       "  '                 min_impurity_split=None,\\n',\n",
       "  '                 presort=False):\\n',\n",
       "  '        super(DecisionTreeRegressor, self).__init__(\\n',\n",
       "  '            criterion=criterion,\\n',\n",
       "  '            splitter=splitter,\\n',\n",
       "  '            max_depth=max_depth,\\n',\n",
       "  '            min_samples_split=min_samples_split,\\n',\n",
       "  '            min_samples_leaf=min_samples_leaf,\\n',\n",
       "  '            min_weight_fraction_leaf=min_weight_fraction_leaf,\\n',\n",
       "  '            max_features=max_features,\\n',\n",
       "  '            max_leaf_nodes=max_leaf_nodes,\\n',\n",
       "  '            random_state=random_state,\\n',\n",
       "  '            min_impurity_decrease=min_impurity_decrease,\\n',\n",
       "  '            min_impurity_split=min_impurity_split,\\n',\n",
       "  '            presort=presort)\\n',\n",
       "  '\\n',\n",
       "  '    def fit(self, X, y, sample_weight=None, check_input=True,\\n',\n",
       "  '            X_idx_sorted=None):\\n',\n",
       "  '        \"\"\"Build a decision tree regressor from the training set (X, y).\\n',\n",
       "  '\\n',\n",
       "  '        Parameters\\n',\n",
       "  '        ----------\\n',\n",
       "  '        X : array-like or sparse matrix, shape = [n_samples, n_features]\\n',\n",
       "  '            The training input samples. Internally, it will be converted to\\n',\n",
       "  '            ``dtype=np.float32`` and if a sparse matrix is provided\\n',\n",
       "  '            to a sparse ``csc_matrix``.\\n',\n",
       "  '\\n',\n",
       "  '        y : array-like, shape = [n_samples] or [n_samples, n_outputs]\\n',\n",
       "  '            The target values (real numbers). Use ``dtype=np.float64`` and\\n',\n",
       "  \"            ``order='C'`` for maximum efficiency.\\n\",\n",
       "  '\\n',\n",
       "  '        sample_weight : array-like, shape = [n_samples] or None\\n',\n",
       "  '            Sample weights. If None, then samples are equally weighted. Splits\\n',\n",
       "  '            that would create child nodes with net zero or negative weight are\\n',\n",
       "  '            ignored while searching for a split in each node.\\n',\n",
       "  '\\n',\n",
       "  '        check_input : boolean, (default=True)\\n',\n",
       "  '            Allow to bypass several input checking.\\n',\n",
       "  \"            Don't use this parameter unless you know what you do.\\n\",\n",
       "  '\\n',\n",
       "  '        X_idx_sorted : array-like, shape = [n_samples, n_features], optional\\n',\n",
       "  '            The indexes of the sorted training input samples. If many tree\\n',\n",
       "  '            are grown on the same dataset, this allows the ordering to be\\n',\n",
       "  '            cached between trees. If None, the data will be sorted here.\\n',\n",
       "  \"            Don't use this parameter unless you know what to do.\\n\",\n",
       "  '\\n',\n",
       "  '        Returns\\n',\n",
       "  '        -------\\n',\n",
       "  '        self : object\\n',\n",
       "  '            Returns self.\\n',\n",
       "  '        \"\"\"\\n',\n",
       "  '\\n',\n",
       "  '        super(DecisionTreeRegressor, self).fit(\\n',\n",
       "  '            X, y,\\n',\n",
       "  '            sample_weight=sample_weight,\\n',\n",
       "  '            check_input=check_input,\\n',\n",
       "  '            X_idx_sorted=X_idx_sorted)\\n',\n",
       "  '        return self\\n'],\n",
       " 873)"
      ]
     },
     "execution_count": 15,
     "metadata": {},
     "output_type": "execute_result"
    }
   ],
   "source": [
    "inspect.getsourcelines(DecisionTreeRegressor)"
   ]
  },
  {
   "cell_type": "code",
   "execution_count": 5,
   "metadata": {},
   "outputs": [
    {
     "data": {
      "text/plain": [
       "array([150000.])"
      ]
     },
     "execution_count": 5,
     "metadata": {},
     "output_type": "execute_result"
    }
   ],
   "source": [
    "# Predicting a new results\n",
    "y_pred = regressor.predict(6.5)\n",
    "y_pred"
   ]
  },
  {
   "cell_type": "code",
   "execution_count": 6,
   "metadata": {},
   "outputs": [
    {
     "data": {
      "text/plain": [
       "[<matplotlib.lines.Line2D at 0x15f6ceae2b0>]"
      ]
     },
     "execution_count": 6,
     "metadata": {},
     "output_type": "execute_result"
    },
    {
     "data": {
      "image/png": "[encoded data removed]",
      "text/plain": [
       "<Figure size 1080x576 with 1 Axes>"
      ]
     },
     "metadata": {},
     "output_type": "display_data"
    }
   ],
   "source": [
    "# Visualizing the Decision Tree Regression Results\n",
    "X_grid = np.arange(min(X),max(X),0.001)\n",
    "plt.figure(figsize=[15,8])\n",
    "plt.scatter(X, y, color='r')\n",
    "plt.plot(X_grid , regressor.predict(X_grid.reshape(len(X_grid),1)), color='b')"
   ]
  },
  {
   "cell_type": "markdown",
   "metadata": {},
   "source": [
    "# Decision Tree Regression is a bad fit for 1-D \n",
    "# but works well on highr dimensions"
   ]
  },
  {
   "cell_type": "code",
   "execution_count": null,
   "metadata": {},
   "outputs": [],
   "source": []
  },
  {
   "cell_type": "code",
   "execution_count": null,
   "metadata": {},
   "outputs": [],
   "source": []
  },
  {
   "cell_type": "code",
   "execution_count": null,
   "metadata": {},
   "outputs": [],
   "source": []
  }
 ],
 "metadata": {
  "kernelspec": {
   "display_name": "Python 3",
   "language": "python",
   "name": "python3"
  },
  "language_info": {
   "codemirror_mode": {
    "name": "ipython",
    "version": 3
   },
   "file_extension": ".py",
   "mimetype": "text/x-python",
   "name": "python",
   "nbconvert_exporter": "python",
   "pygments_lexer": "ipython3",
   "version": "3.6.4"
  }
 },
 "nbformat": 4,
 "nbformat_minor": 2
}
